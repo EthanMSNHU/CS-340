{
 "cells": [
  {
   "cell_type": "code",
   "execution_count": 5,
   "id": "2dcee0ef",
   "metadata": {},
   "outputs": [
    {
     "ename": "ModuleNotFoundError",
     "evalue": "No module named 'crud'",
     "output_type": "error",
     "traceback": [
      "\u001b[0;31m---------------------------------------------------------------------------\u001b[0m",
      "\u001b[0;31mModuleNotFoundError\u001b[0m                       Traceback (most recent call last)",
      "Input \u001b[0;32mIn [5]\u001b[0m, in \u001b[0;36m<cell line: 4>\u001b[0;34m()\u001b[0m\n\u001b[1;32m      2\u001b[0m \u001b[38;5;28;01mimport\u001b[39;00m \u001b[38;5;21;01mos\u001b[39;00m\n\u001b[1;32m      3\u001b[0m os\u001b[38;5;241m.\u001b[39mchdir(\u001b[38;5;124m'\u001b[39m\u001b[38;5;124m/home/ethanmills_snhu\u001b[39m\u001b[38;5;124m'\u001b[39m)\n\u001b[0;32m----> 4\u001b[0m \u001b[38;5;28;01mfrom\u001b[39;00m \u001b[38;5;21;01mcrud\u001b[39;00m \u001b[38;5;28;01mimport\u001b[39;00m AnimalShelter\n\u001b[1;32m      5\u001b[0m animals \u001b[38;5;241m=\u001b[39m AnimalShelter()\n\u001b[1;32m      7\u001b[0m  \u001b[38;5;66;03m#query for a random record that is known to exist\u001b[39;00m\n",
      "\u001b[0;31mModuleNotFoundError\u001b[0m: No module named 'crud'"
     ]
    }
   ],
   "source": [
    "\n",
    "#Driver for testing CRUD \n",
    "import os\n",
    "os.chdir('/home/ethanmills_snhu')\n",
    "from crud import AnimalShelter\n",
    "animals = AnimalShelter()\n",
    "\n",
    " #query for a random record that is known to exist\n",
    "query = animals.getRecordCriteria({\"name\": \"Rex\", 'age_upon_outcome': '2 months'})\n",
    "for docs in query:\n",
    "    print(docs)\n",
    "\n",
    "#test the createRecord Method\n",
    "#True for success\n",
    "#False for failed\n",
    "print(animals.createRecord({\n",
    "          'age_upon_outcome': \"1 year\",\n",
    "          'animal_id': 'test_id', \n",
    "          'animal_type': 'test', \n",
    "          'breed': 'test breed', \n",
    "          'color': 'color', \n",
    "          'date_of_birth': '2024-10-01',\n",
    "          'datetime': '2025-02-04 12:00:00', \n",
    "          'monthyear': '1900-01-24T12:00:00', \n",
    "          'name': 'name', \n",
    "          'outcome_subtype': '', \n",
    "          'outcome_type': 'test', \n",
    "          'sex_upon_outcome': 'test', \n",
    "          'location_lat': 10.10, \n",
    "          'location_long': -10.10, \n",
    "          'age_upon_outcome_in_weeks': 123.123\n",
    "          })\n",
    "      )\n",
    " \n",
    "# #query for the record that was just created\n",
    "query = animals.getRecordCriteria({\"name\": \"name\", 'age_upon_outcome': '4 months'})\n",
    "for docs in query:\n",
    "    print(docs)\n",
    "\n"
   ]
  },
  {
   "cell_type": "code",
   "execution_count": 6,
   "id": "0c75be00",
   "metadata": {},
   "outputs": [
    {
     "name": "stdout",
     "output_type": "stream",
     "text": [
      "/home/ethanmills_snhu\n"
     ]
    }
   ],
   "source": [
    "import os \n",
    "print(os.getcwd())\n"
   ]
  },
  {
   "cell_type": "code",
   "execution_count": 7,
   "id": "3d1a44f1",
   "metadata": {},
   "outputs": [
    {
     "data": {
      "text/plain": [
       "['.bashrc',\n",
       " '.ipynb_checkpoints',\n",
       " '.Xdefaults',\n",
       " '.mozilla',\n",
       " '.xscreensaver',\n",
       " '.xorgxrdp.11.log',\n",
       " '.Xauthority',\n",
       " 'Music',\n",
       " '.jupyter',\n",
       " '.xsessionrc',\n",
       " '.ipython',\n",
       " 'Downloads',\n",
       " '.mysql',\n",
       " '.xorgxrdp.13.log.old',\n",
       " '.ssh',\n",
       " '.cache',\n",
       " '.mongodb',\n",
       " '.gnupg',\n",
       " 'Pictures',\n",
       " 'Desktop',\n",
       " '.xsession-errors',\n",
       " '.bash_logout',\n",
       " '.xorgxrdp.13.log',\n",
       " '.xorgxrdp.10.log.old',\n",
       " '.bash_history',\n",
       " 'Documents',\n",
       " 'Crud.ipynb',\n",
       " '.config',\n",
       " '.xorgxrdp.18.log',\n",
       " '.profile',\n",
       " '.local',\n",
       " '.xorgxrdp.12.log',\n",
       " '.xorgxrdp.11.log.old',\n",
       " '.xorgxrdp.10.log',\n",
       " 'Main.ipynb',\n",
       " '.xorgxrdp.12.log.old']"
      ]
     },
     "execution_count": 7,
     "metadata": {},
     "output_type": "execute_result"
    }
   ],
   "source": [
    "os.listdir()"
   ]
  },
  {
   "cell_type": "code",
   "execution_count": 11,
   "id": "bb091a5c",
   "metadata": {},
   "outputs": [
    {
     "ename": "NameError",
     "evalue": "name 'Desktop' is not defined",
     "output_type": "error",
     "traceback": [
      "\u001b[0;31m---------------------------------------------------------------------------\u001b[0m",
      "\u001b[0;31mNameError\u001b[0m                                 Traceback (most recent call last)",
      "Input \u001b[0;32mIn [11]\u001b[0m, in \u001b[0;36m<cell line: 2>\u001b[0;34m()\u001b[0m\n\u001b[1;32m      1\u001b[0m \u001b[38;5;28;01mimport\u001b[39;00m \u001b[38;5;21;01msys\u001b[39;00m\n\u001b[0;32m----> 2\u001b[0m sys\u001b[38;5;241m.\u001b[39mpath\u001b[38;5;241m.\u001b[39mappend(\u001b[43mDesktop\u001b[49m\u001b[38;5;241m/\u001b[39methanmills_snhu)\n",
      "\u001b[0;31mNameError\u001b[0m: name 'Desktop' is not defined"
     ]
    }
   ],
   "source": [
    "import sys\n",
    "sys.path.append(Desktop/ethanmills_snhu)\n"
   ]
  },
  {
   "cell_type": "code",
   "execution_count": 12,
   "id": "6aa9fd21",
   "metadata": {},
   "outputs": [
    {
     "ename": "ModuleNotFoundError",
     "evalue": "No module named 'crud'",
     "output_type": "error",
     "traceback": [
      "\u001b[0;31m---------------------------------------------------------------------------\u001b[0m",
      "\u001b[0;31mModuleNotFoundError\u001b[0m                       Traceback (most recent call last)",
      "Input \u001b[0;32mIn [12]\u001b[0m, in \u001b[0;36m<cell line: 1>\u001b[0;34m()\u001b[0m\n\u001b[0;32m----> 1\u001b[0m \u001b[38;5;28;01mimport\u001b[39;00m \u001b[38;5;21;01mcrud\u001b[39;00m\n",
      "\u001b[0;31mModuleNotFoundError\u001b[0m: No module named 'crud'"
     ]
    }
   ],
   "source": [
    "import crud"
   ]
  },
  {
   "cell_type": "code",
   "execution_count": null,
   "id": "40aa2019",
   "metadata": {},
   "outputs": [],
   "source": []
  }
 ],
 "metadata": {
  "kernelspec": {
   "display_name": "Python 3 (ipykernel)",
   "language": "python",
   "name": "python3"
  },
  "language_info": {
   "codemirror_mode": {
    "name": "ipython",
    "version": 3
   },
   "file_extension": ".py",
   "mimetype": "text/x-python",
   "name": "python",
   "nbconvert_exporter": "python",
   "pygments_lexer": "ipython3",
   "version": "3.9.12"
  }
 },
 "nbformat": 4,
 "nbformat_minor": 5
}
